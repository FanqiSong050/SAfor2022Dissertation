{
 "cells": [
  {
   "cell_type": "code",
   "execution_count": 1,
   "id": "cea94a3e",
   "metadata": {},
   "outputs": [],
   "source": [
    "import aip\n",
    "import pandas as pd\n",
    "import numpy as np\n",
    "import time"
   ]
  },
  {
   "cell_type": "code",
   "execution_count": null,
   "id": "e26bb9d7",
   "metadata": {},
   "outputs": [],
   "source": [
    "def sentiment_classify(input_file, text_col = 'text'):\n",
    "     #Access to the ID of the interface service\n",
    "    appId = '26858324'\n",
    "    apiKey = 'OfP7hT6bcpleGTOWlkayM8zu'\n",
    "    secretKey = 'i2j8kucaBd7Br8XnOOW09Olshqn3RLsr'\n",
    "    nlp = aip.nlp.AipNlp(appId,apiKey,secretKey)\n",
    "   \n",
    "    df = pd.read_csv(input_file)\n",
    "    sentiment_classify_col = 'sentiment_score'\n",
    "    is_scored_col = 'has_scored'\n",
    "    df[is_scored_col] = [False for _ in range(df.shape[0])]\n",
    "    for index, row in df.iterrows():\n",
    "        print(f'{index + 1}/{df.shape[0]}')\n",
    "        if row[is_scored_col] == True:\n",
    "            continue\n",
    "        text = row[text_col]\n",
    "        if len(text) == 0 or text == None:\n",
    "            # no text in this line\n",
    "            sentiment = -1\n",
    "        else:\n",
    "            sentiment = nlp.sentimentClassify(text)['items'][0]['positive_prob']\n",
    "        df.loc[index, sentiment_classify_col] = sentiment\n",
    "        df.loc[index, is_scored_col] = True\n",
    "        \n",
    "        # the limitations of QPS ,add a sleep time to the loop\n",
    "        time.sleep(1) \n",
    "   \n",
    "\n",
    "    df.to_csv(input_file, index=False, encoding='utf-8-sig')"
   ]
  },
  {
   "cell_type": "code",
   "execution_count": null,
   "id": "5ba945cb",
   "metadata": {},
   "outputs": [],
   "source": [
    "sentiment_classify(input_file='sampledata.csv', text_col='text')"
   ]
  }
 ],
 "metadata": {
  "kernelspec": {
   "display_name": "Python 3 (ipykernel)",
   "language": "python",
   "name": "python3"
  },
  "language_info": {
   "codemirror_mode": {
    "name": "ipython",
    "version": 3
   },
   "file_extension": ".py",
   "mimetype": "text/x-python",
   "name": "python",
   "nbconvert_exporter": "python",
   "pygments_lexer": "ipython3",
   "version": "3.9.7"
  }
 },
 "nbformat": 4,
 "nbformat_minor": 5
}
